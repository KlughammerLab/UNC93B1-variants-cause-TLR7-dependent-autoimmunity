{
 "cells": [
  {
   "cell_type": "code",
   "execution_count": 1,
   "id": "14a0a903-1b99-4f34-9175-0c393fb53799",
   "metadata": {},
   "outputs": [
    {
     "name": "stderr",
     "output_type": "stream",
     "text": [
      "Welcome to enrichR\n",
      "Checking connection ... \n",
      "\n",
      "Enrichr ... \n",
      "Connection is Live!\n",
      "\n",
      "FlyEnrichr ... \n",
      "Connection is Live!\n",
      "\n",
      "WormEnrichr ... \n",
      "Connection is Live!\n",
      "\n",
      "YeastEnrichr ... \n",
      "Connection is Live!\n",
      "\n",
      "FishEnrichr ... \n",
      "Connection is Live!\n",
      "\n",
      "OxEnrichr ... \n",
      "Connection is Live!\n",
      "\n"
     ]
    }
   ],
   "source": [
    "#loading the libraries\n",
    "library(data.table)\n",
    "library(enrichR)\n",
    "library(ggplot2)"
   ]
  },
  {
   "cell_type": "code",
   "execution_count": 2,
   "id": "0afc532e-6cba-4242-b879-173f40ec7675",
   "metadata": {},
   "outputs": [],
   "source": [
    "#general settings for the plots\n",
    "theme_set(theme_bw())\n",
    "theme_update(axis.text = element_text(color=\"black\"),\n",
    "              panel.grid.minor = element_blank(), \n",
    "             text = element_text(size=12))"
   ]
  },
  {
   "cell_type": "code",
   "execution_count": 3,
   "id": "e3020d82-b99e-4509-a233-46273a8557db",
   "metadata": {},
   "outputs": [],
   "source": [
    "#general pdf setting\n",
    "pdf.options(useDingbats=FALSE)\n"
   ]
  },
  {
   "cell_type": "code",
   "execution_count": 4,
   "id": "570bab62-4f9f-49af-90cd-555a8a0d241e",
   "metadata": {},
   "outputs": [],
   "source": [
    "#plotting helper functions\n",
    "\n",
    "rotate_labels <- function(angle = 60,vjust = 1,hjust = 1)\n",
    "{return(theme(axis.text.x = element_text(angle = angle, vjust = vjust,hjust = hjust)))}"
   ]
  },
  {
   "cell_type": "code",
   "execution_count": 5,
   "id": "c1ccc3dc-c130-4ccb-a2ab-5cd175f5e2a3",
   "metadata": {},
   "outputs": [],
   "source": [
    "#setting the working directory\n",
    "setwd(\"/home//mmokhtari/INF_analysis/enrichment plot/\")"
   ]
  },
  {
   "cell_type": "code",
   "execution_count": 6,
   "id": "e4dd1e88-c8bc-40eb-a424-ebf4b95fa6b5",
   "metadata": {},
   "outputs": [],
   "source": [
    "de=fread(\"DE_genes_donor0_vs_donor_1.csv\")"
   ]
  },
  {
   "cell_type": "code",
   "execution_count": 7,
   "id": "f52641e6-5918-4439-82bf-e23d822b2767",
   "metadata": {},
   "outputs": [],
   "source": [
    "#filtering the DEs\n",
    "de_filt=de[abs(logfoldchanges)>1.5&pvals_adj<0.05]\n",
    "de_filt[,direction:=ifelse(logfoldchanges>0,\"up\",\"down\"),]\n"
   ]
  },
  {
   "cell_type": "code",
   "execution_count": 8,
   "id": "9002b43e-47fd-4c9f-a3dd-8473da162e9d",
   "metadata": {},
   "outputs": [
    {
     "name": "stdout",
     "output_type": "stream",
     "text": [
      "Uploading data to Enrichr... Done.\n",
      "  Querying GO_Biological_Process_2018... Done.\n",
      "Parsing results... Done.\n",
      "Uploading data to Enrichr... Done.\n",
      "  Querying GO_Biological_Process_2018... Done.\n",
      "Parsing results... Done.\n",
      "Uploading data to Enrichr... Done.\n",
      "  Querying GO_Biological_Process_2018... Done.\n",
      "Parsing results... Done.\n",
      "Uploading data to Enrichr... Done.\n",
      "  Querying GO_Biological_Process_2018... Done.\n",
      "Parsing results... Done.\n",
      "Uploading data to Enrichr... Done.\n",
      "  Querying GO_Biological_Process_2018... Done.\n",
      "Parsing results... Done.\n",
      "Uploading data to Enrichr... Done.\n",
      "  Querying GO_Biological_Process_2018... Done.\n",
      "Parsing results... Done.\n",
      "Uploading data to Enrichr... Done.\n",
      "  Querying GO_Biological_Process_2018... Done.\n",
      "Parsing results... Done.\n",
      "Uploading data to Enrichr... Done.\n",
      "  Querying GO_Biological_Process_2018... Done.\n",
      "Parsing results... Done.\n",
      "Uploading data to Enrichr... Done.\n",
      "  Querying GO_Biological_Process_2018... Done.\n",
      "Parsing results... Done.\n",
      "Uploading data to Enrichr... Done.\n",
      "  Querying GO_Biological_Process_2018... Done.\n",
      "Parsing results... Done.\n",
      "Uploading data to Enrichr... Done.\n",
      "  Querying GO_Biological_Process_2018... Done.\n",
      "Parsing results... Done.\n",
      "Uploading data to Enrichr... Done.\n",
      "  Querying GO_Biological_Process_2018... Done.\n",
      "Parsing results... Done.\n",
      "Uploading data to Enrichr... Done.\n",
      "  Querying GO_Biological_Process_2018... Done.\n",
      "Parsing results... Done.\n",
      "Uploading data to Enrichr... Done.\n",
      "  Querying GO_Biological_Process_2018... Done.\n",
      "Parsing results... Done.\n",
      "Uploading data to Enrichr... Done.\n",
      "  Querying GO_Biological_Process_2018... Done.\n",
      "Parsing results... Done.\n"
     ]
    }
   ],
   "source": [
    "#running the enrichment analysis on the data\n",
    "\n",
    "enrich=de_filt[,as.data.table(enrichr(names,databases=\"GO_Biological_Process_2018\")),by=c(\"Cluster\",\"direction\")]\n",
    "enrich[,Cluster:=gsub(\"-donor\",\"\",Cluster),]\n",
    "setnames(enrich,names(enrich),gsub(\"GO_Biological_Process_2018\\\\.\",\"\",names(enrich)))\n",
    "\n"
   ]
  },
  {
   "cell_type": "code",
   "execution_count": 9,
   "id": "b7a6e4bd-80fa-461b-9762-5e541c1fc030",
   "metadata": {},
   "outputs": [],
   "source": [
    "#subsetting the upregulated enrichment terms\n",
    "sel=c(\"up\",0.005)\n",
    "#sel=c(\"down\",0.05)\n",
    "\n",
    "enrich_up=enrich[direction==sel[1]&Adjusted.P.value<as.numeric(sel[2])]\n",
    "enrich_up[,GO:=gsub(\".* |\\\\(|\\\\)|\\\\:\",\"\",Term),]\n",
    "enrich_up[,GO_orig:=gsub(\".* |\\\\(|\\\\)\",\"\",Term),]\n",
    "enrich_up[,N:=.N,by=\"GO\"]\n"
   ]
  },
  {
   "cell_type": "code",
   "execution_count": 10,
   "id": "5f56fa64-1e8a-4809-b859-b15e6f4c9f27",
   "metadata": {},
   "outputs": [],
   "source": [
    "#sorting the terms for the plot\n",
    "enrich_up[,Cluster:=factor(Cluster,c(\"B\",\"CD4+_T\",\"CD8+_T\",\"NK\",\"CD16+_Monocyte\",\"CD14+_Monocyte\",\"cDC\",\"Platelet\")),]\n",
    "enrich_up[,cluster_sum:=sum(-as.numeric(Cluster)),by=Term]\n",
    "enrich_up[,cluster_min:=-min(as.numeric(Cluster)),by=Term]\n",
    "enrich_up[,pval_min:=-min(Adjusted.P.value),by=Term]\n",
    "enrich_up[,or_max:=max(Odds.Ratio),by=Term]\n",
    "enrich_up[,Term_f:=factor(Term,levels=unique(Term[order(N,cluster_sum,cluster_min,or_max,pval_min)])),]\n",
    "\n",
    "\n",
    "write.table(enrich_up,paste0(\"GO_terms_\",sel[1],\".tsv\"),sep=\"\\t\", row.names = F)\n"
   ]
  },
  {
   "cell_type": "code",
   "execution_count": 11,
   "id": "70fc0a7b-61e7-4105-b460-d5ba3e2daa93",
   "metadata": {},
   "outputs": [
    {
     "data": {
      "text/html": [
       "<strong>png:</strong> 2"
      ],
      "text/latex": [
       "\\textbf{png:} 2"
      ],
      "text/markdown": [
       "**png:** 2"
      ],
      "text/plain": [
       "png \n",
       "  2 "
      ]
     },
     "metadata": {},
     "output_type": "display_data"
    }
   ],
   "source": [
    "#visualisation of the enrichment terms\n",
    "\n",
    "pdf(paste0(\"GO_\",sel[1],\"_\",sel[2],\".pdf\"),width = 13,height = 15)\n",
    "ggplot(enrich_up,aes(y=Term_f,x=Cluster,\n",
    "                     size=Odds.Ratio,\n",
    "                     colour=-log10(Adjusted.P.value)))+geom_point()+\n",
    "  rotate_labels()+scale_color_gradient(high=\"red\",low=\"blue\")+\n",
    "  scale_size_continuous(range=c(1,4))\n",
    "dev.off()  \n",
    "\n"
   ]
  }
 ],
 "metadata": {
  "kernelspec": {
   "display_name": "R 4.1.2",
   "language": "R",
   "name": "ir412"
  },
  "language_info": {
   "codemirror_mode": "r",
   "file_extension": ".r",
   "mimetype": "text/x-r-source",
   "name": "R",
   "pygments_lexer": "r",
   "version": "4.1.2"
  }
 },
 "nbformat": 4,
 "nbformat_minor": 5
}
