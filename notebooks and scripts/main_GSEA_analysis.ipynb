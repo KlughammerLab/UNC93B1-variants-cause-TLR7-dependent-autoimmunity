{
 "cells": [
  {
   "cell_type": "code",
   "execution_count": 1,
   "id": "e9a42da3-170f-4efa-9a01-3978aaf1305b",
   "metadata": {},
   "outputs": [],
   "source": [
    "%load_ext autoreload\n",
    "%autoreload 2\n",
    "import os\n",
    "import numpy as np\n",
    "import pandas as pd\n",
    "import matplotlib.pyplot as plt"
   ]
  },
  {
   "cell_type": "code",
   "execution_count": 2,
   "id": "0ae43bb5-23f4-4835-9172-75c573c29433",
   "metadata": {},
   "outputs": [],
   "source": [
    "import gseapy as gp\n",
    "import scanpy as sc"
   ]
  },
  {
   "cell_type": "code",
   "execution_count": 3,
   "id": "38b49b5c-b5f6-4172-a0bc-716754b0cd66",
   "metadata": {},
   "outputs": [],
   "source": [
    "adata = sc.read_h5ad(\"/home/mmokhtari/INF_analysis/INF_analysis_final.h5ad\")"
   ]
  },
  {
   "cell_type": "code",
   "execution_count": 4,
   "id": "4b52041a-9424-4f03-b835-8de4d40ff737",
   "metadata": {},
   "outputs": [],
   "source": [
    "adata.layers['counts'] = adata.X"
   ]
  },
  {
   "cell_type": "code",
   "execution_count": 5,
   "id": "6d06b1ff-3657-435b-a30a-4f8a3064df6a",
   "metadata": {},
   "outputs": [],
   "source": [
    "# preprocessing\n",
    "#sc.pp.normalize_total(adata, target_sum=1e4)\n",
    "#sc.pp.log1p(adata)\n",
    "#adata.layers['lognorm'] = adata.X"
   ]
  },
  {
   "cell_type": "code",
   "execution_count": 6,
   "id": "5b2c5aa3-48bc-4d93-8f56-3a3fbbc5071c",
   "metadata": {},
   "outputs": [],
   "source": [
    "# set STIM as class 0, CTRL as class 1, to make categorical\n",
    "adata.obs['donor'] = pd.Categorical(adata.obs['donor'], categories=[\"donor1\", \"donor0\"], ordered=True)\n",
    "indices = adata.obs.sort_values(['Final_Annotation', 'donor']).index\n",
    "adata = adata[indices,:]"
   ]
  },
  {
   "cell_type": "code",
   "execution_count": 14,
   "id": "a0b03376-e755-4d03-a328-ea350fa625e0",
   "metadata": {},
   "outputs": [],
   "source": [
    "for i in os.listdir(\"/home/mmokhtari/INF_analysis/DEGs_up/\"):\n",
    "    t = pd.read_csv((\"/home/mmokhtari/INF_analysis/DEGs_up/\"+i),index_col=0)\n",
    "# Enricr API\n",
    "    enr_up = gp.enrichr(t.names,\n",
    "                    gene_sets='GO_Biological_Process_2021',\n",
    "                    outdir=None)\n",
    "# trim (go:...)\n",
    "    enr_up.res2d.Term = enr_up.res2d.Term.str.split(\" \\(GO\").str[0]\n",
    "    x= enr_up.res2d\n",
    "    x=x[x[\"Adjusted P-value\"]<0.05]\n",
    "    #print(x)\n",
    "    #x.to_csv(\"gseapy output/up/\"+i)\n",
    "# dotplot\n",
    "    #gp.dotplot(enr_up.res2d, figsize=(3,5), title=(i+\"Up\"), cmap = plt.cm.autumn_r)\n",
    "    #plt.show()"
   ]
  },
  {
   "cell_type": "code",
   "execution_count": 15,
   "id": "46807a41-b1fb-4f75-9a10-2e14f460b6bb",
   "metadata": {},
   "outputs": [],
   "source": [
    "for i in os.listdir(\"/home/mmokhtari/INF_analysis/DEGs_down/\"):\n",
    "    t = pd.read_csv((\"/home/mmokhtari/INF_analysis/DEGs_down/\"+i),index_col=0)\n",
    "    #print(t)\n",
    "    # Enricr API\n",
    "    enr_down = gp.enrichr(t.names,\n",
    "                    gene_sets='GO_Biological_Process_2021',\n",
    "                    outdir=None)\n",
    "    # trim (go:...)\n",
    "    enr_down.res2d.Term = enr_down.res2d.Term.str.split(\" \\(GO\").str[0]\n",
    "    x= enr_down.res2d\n",
    "    #x=x[x[\"Adjusted P-value\"]<0.05]\n",
    "    #print(x)\n",
    "    #x.to_csv(\"gseapy output/down/\"+i)\n",
    "    # dotplot\n",
    "    #gp.dotplot(enr_down.res2d, figsize=(3,5), title=(i+\"Down\"), cmap = plt.cm.autumn_r)\n",
    "    #plt.show()"
   ]
  }
 ],
 "metadata": {
  "kernelspec": {
   "display_name": "gseapy",
   "language": "python",
   "name": "gseapy"
  },
  "language_info": {
   "codemirror_mode": {
    "name": "ipython",
    "version": 3
   },
   "file_extension": ".py",
   "mimetype": "text/x-python",
   "name": "python",
   "nbconvert_exporter": "python",
   "pygments_lexer": "ipython3",
   "version": "3.10.8"
  }
 },
 "nbformat": 4,
 "nbformat_minor": 5
}
